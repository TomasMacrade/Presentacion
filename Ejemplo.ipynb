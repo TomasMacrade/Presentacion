{
 "cells": [
  {
   "cell_type": "code",
   "execution_count": 3,
   "metadata": {},
   "outputs": [
    {
     "name": "stdout",
     "output_type": "stream",
     "text": [
      "24\n"
     ]
    }
   ],
   "source": [
    "# Librerías importadas\n",
    "import numpy as np\n",
    "import pandas as pd\n",
    "import os\n",
    "\n",
    "np.seterr(all=\"ignore\")\n",
    "\n",
    "# Librerías propias\n",
    "from PSO import LBestPSO\n",
    "from utils import GPD_Acum,A_2,Test_P_01,Datos_Indep,Convergencia_AD\n",
    "\n",
    "\n",
    "# Cargamos el csv\n",
    "Datos = pd.read_csv(\"Datos.csv\")\n",
    "\n",
    "# Lo ordenamos por temperatura\n",
    "Datos.sort_values(by=['temint'],inplace=True)\n",
    "\n",
    "# Nos quedamos con el cuarto más alto de temperaturas\n",
    "Datos = Datos.iloc[-1*len(Datos)//10:]\n",
    "\n",
    "# Volvemos a ordenar por fecha\n",
    "Datos.sort_index(inplace=True)\n",
    "\n",
    "# Agrupamos los datos por fecha y nos quedamos con el máximo\n",
    "group = Datos.groupby(['fecha'], as_index=False)\n",
    "Datos = group.max()\n",
    "\n",
    "# Convierto la columna fecha en string\n",
    "Datos = Datos.astype({'fecha':'string'})\n",
    "\n",
    "# Convertimos los datos en independientes\n",
    "Datos = Datos_Indep(Datos)\n",
    "\n",
    "print(len(Datos))\n",
    "# Tomo el mínimo de todos los datos\n",
    "Minimo = min(Datos)\n",
    "\n",
    "# Hago la lista de los excedentes de ese dato mínimo (con un poco de margen)\n",
    "Excedentes = [round(float(i)-Minimo-0.2,2) for i in Datos]\n",
    "\n",
    "# Defino el t inicial\n",
    "Threshold_Inicial = Minimo-0.2"
   ]
  },
  {
   "cell_type": "code",
   "execution_count": 4,
   "metadata": {},
   "outputs": [
    {
     "name": "stdout",
     "output_type": "stream",
     "text": [
      "El threshold inicial es de 27.41\n",
      "Maximo Global\n",
      "[-50.275241970348844, -0.5791521155685188, 5.337592712486954]\n",
      "nan\n",
      "============= No se convergió ====================\n",
      "\n",
      "================ El nuevo Threshold es 27.51 =========\n",
      "Maximo Global\n",
      "[-48.17763831925642, -0.603072748400632, 5.428589355327239]\n",
      "0.7690753778539055\n",
      "============= No se convergió ====================\n",
      "\n",
      "================ El nuevo Threshold es 27.61 =========\n"
     ]
    },
    {
     "ename": "KeyboardInterrupt",
     "evalue": "",
     "output_type": "error",
     "traceback": [
      "\u001b[1;31m---------------------------------------------------------------------------\u001b[0m",
      "\u001b[1;31mKeyboardInterrupt\u001b[0m                         Traceback (most recent call last)",
      "\u001b[1;32mc:\\Users\\tomas\\Desktop\\Tesis\\Desarrollo Programacion\\Ejemplo2.ipynb Cell 2\u001b[0m line \u001b[0;36m3\n\u001b[0;32m      <a href='vscode-notebook-cell:/c%3A/Users/tomas/Desktop/Tesis/Desarrollo%20Programacion/Ejemplo2.ipynb#X13sZmlsZQ%3D%3D?line=0'>1</a>\u001b[0m \u001b[39m# Busco el Threshold Final y su gamma y sigma\u001b[39;00m\n\u001b[1;32m----> <a href='vscode-notebook-cell:/c%3A/Users/tomas/Desktop/Tesis/Desarrollo%20Programacion/Ejemplo2.ipynb#X13sZmlsZQ%3D%3D?line=2'>3</a>\u001b[0m gamma,sigma,Threshold_Intermedio \u001b[39m=\u001b[39m Convergencia_AD(Excedentes,Threshold_Inicial,verb\u001b[39m=\u001b[39;49m\u001b[39mTrue\u001b[39;49;00m)\n\u001b[0;32m      <a href='vscode-notebook-cell:/c%3A/Users/tomas/Desktop/Tesis/Desarrollo%20Programacion/Ejemplo2.ipynb#X13sZmlsZQ%3D%3D?line=4'>5</a>\u001b[0m \u001b[39m# Calculo el threshold final. \u001b[39;00m\n\u001b[0;32m      <a href='vscode-notebook-cell:/c%3A/Users/tomas/Desktop/Tesis/Desarrollo%20Programacion/Ejemplo2.ipynb#X13sZmlsZQ%3D%3D?line=6'>7</a>\u001b[0m \u001b[39mfor\u001b[39;00m i \u001b[39min\u001b[39;00m \u001b[39mrange\u001b[39m(\u001b[39m0\u001b[39m,\u001b[39m200\u001b[39m):\n",
      "File \u001b[1;32mc:\\Users\\tomas\\Desktop\\Tesis\\Desarrollo Programacion\\utils.py:92\u001b[0m, in \u001b[0;36mConvergencia_AD\u001b[1;34m(datos, T_inicial, inter, verb)\u001b[0m\n\u001b[0;32m     90\u001b[0m \u001b[39mwhile\u001b[39;00m \u001b[39mlen\u001b[39m(Datos2)\u001b[39m>\u001b[39m\u001b[39m15\u001b[39m:\n\u001b[0;32m     91\u001b[0m     A \u001b[39m=\u001b[39m LBestPSO(Datos2,n_particulas\u001b[39m=\u001b[39m\u001b[39m100\u001b[39m,n_grupo\u001b[39m=\u001b[39m\u001b[39m10\u001b[39m)\n\u001b[1;32m---> 92\u001b[0m     Ejemplo \u001b[39m=\u001b[39m A\u001b[39m.\u001b[39;49mfit(\u001b[39miter\u001b[39;49m\u001b[39m=\u001b[39;49m\u001b[39m1000\u001b[39;49m)\n\u001b[0;32m     93\u001b[0m     k \u001b[39m=\u001b[39m \u001b[39m-\u001b[39m\u001b[39m1\u001b[39m\u001b[39m*\u001b[39mEjemplo[\u001b[39m1\u001b[39m]\n\u001b[0;32m     94\u001b[0m     sigma \u001b[39m=\u001b[39m Ejemplo[\u001b[39m2\u001b[39m]\n",
      "File \u001b[1;32mc:\\Users\\tomas\\Desktop\\Tesis\\Desarrollo Programacion\\PSO.py:217\u001b[0m, in \u001b[0;36mLBestPSO.fit\u001b[1;34m(self, c1, c2, iter)\u001b[0m\n\u001b[0;32m    215\u001b[0m     \u001b[39mif\u001b[39;00m i \u001b[39m!=\u001b[39m j:\n\u001b[0;32m    216\u001b[0m       Aux\u001b[39m.\u001b[39mappend([((\u001b[39mself\u001b[39m\u001b[39m.\u001b[39mposiciones[i][\u001b[39m0\u001b[39m] \u001b[39m-\u001b[39m \u001b[39mself\u001b[39m\u001b[39m.\u001b[39mposiciones[j][\u001b[39m0\u001b[39m])\u001b[39m*\u001b[39m\u001b[39m*\u001b[39m\u001b[39m2\u001b[39m \u001b[39m+\u001b[39m (\u001b[39mself\u001b[39m\u001b[39m.\u001b[39mposiciones[i][\u001b[39m1\u001b[39m] \u001b[39m-\u001b[39m \u001b[39mself\u001b[39m\u001b[39m.\u001b[39mposiciones[j][\u001b[39m1\u001b[39m])\u001b[39m*\u001b[39m\u001b[39m*\u001b[39m\u001b[39m2\u001b[39m)\u001b[39m*\u001b[39m\u001b[39m*\u001b[39m(\u001b[39m0.5\u001b[39m),j])\n\u001b[1;32m--> 217\u001b[0m   distancias\u001b[39m.\u001b[39;49mappend(\u001b[39msorted\u001b[39;49m(Aux, key\u001b[39m=\u001b[39;49moperator\u001b[39m.\u001b[39;49mitemgetter(\u001b[39m0\u001b[39;49m)))\n\u001b[0;32m    220\u001b[0m distancias \u001b[39m=\u001b[39m [i[\u001b[39m0\u001b[39m:\u001b[39m3\u001b[39m] \u001b[39mfor\u001b[39;00m i \u001b[39min\u001b[39;00m distancias]\n\u001b[0;32m    221\u001b[0m Indices_Cercanos \u001b[39m=\u001b[39m []\n",
      "\u001b[1;31mKeyboardInterrupt\u001b[0m: "
     ]
    }
   ],
   "source": [
    "# Busco el Threshold Final y su gamma y sigma\n",
    "\n",
    "gamma,sigma,Threshold_Intermedio = Convergencia_AD(Excedentes,Threshold_Inicial,verb=True)\n",
    "\n",
    "# Calculo el threshold final. \n",
    "\n",
    "for i in range(0,200):\n",
    "        if 1 - (1+(i/10)*gamma/sigma)**(-1/gamma) >= 1-10**(-1):\n",
    "            print(i)\n",
    "            print(\"========== Los datos mayores a este número son datos extremos ==============\")\n",
    "            treshfinal = (i/10)+Threshold_Intermedio\n",
    "            print((i/10)+Threshold_Intermedio)\n",
    "            break"
   ]
  }
 ],
 "metadata": {
  "kernelspec": {
   "display_name": "Python 3",
   "language": "python",
   "name": "python3"
  },
  "language_info": {
   "codemirror_mode": {
    "name": "ipython",
    "version": 3
   },
   "file_extension": ".py",
   "mimetype": "text/x-python",
   "name": "python",
   "nbconvert_exporter": "python",
   "pygments_lexer": "ipython3",
   "version": "3.10.10"
  },
  "orig_nbformat": 4
 },
 "nbformat": 4,
 "nbformat_minor": 2
}
